{
 "cells": [
  {
   "cell_type": "markdown",
   "id": "3fe99544-90c0-4c41-908d-a5b87dacff87",
   "metadata": {},
   "source": [
    "# H1 Data Science Tools and Ecosystem\n",
    "## In this notebook, Data Science Tools and Ecosystem are summarized."
   ]
  },
  {
   "cell_type": "markdown",
   "id": "4d4c6d7e-2f43-4145-97fc-2459b1f07999",
   "metadata": {
    "tags": []
   },
   "source": [
    "# Objectives\n",
    "1. Popular languages that data scientists use.\n",
    "2. Commonly used libraries used by data scientists\n",
    "3. Examples of evaluating arithmetic expressions in Python\n",
    "4. Simple arithmetic expression to mutiply then add integers\n",
    "5. Convert 200 minutes to hours by diving by 60"
   ]
  },
  {
   "cell_type": "markdown",
   "id": "50ceb8aa-656e-4cda-b28d-37dc932ca3d1",
   "metadata": {},
   "source": [
    "# Some of the popular languages that Data Scientists use are:\n",
    "- python, R, SQL\n",
    "\n"
   ]
  },
  {
   "cell_type": "markdown",
   "id": "463741e1-cc22-404f-868d-af5db84a4344",
   "metadata": {},
   "source": [
    "# Some of the commonly used libraries used by Data Scientists include:\n",
    "- Pandas, Seaborn ,matplotlib"
   ]
  },
  {
   "cell_type": "markdown",
   "id": "abd1b24e-c2c2-4980-817e-78d8af8864a3",
   "metadata": {},
   "source": [
    "| Data Science Tools |\n",
    "|--------------------|\n",
    "|Spyder|\n",
    "|Jupyterlab|\n",
    "|VS code|"
   ]
  },
  {
   "cell_type": "markdown",
   "id": "207c91b5-b746-48c3-a018-eed2b5a40526",
   "metadata": {},
   "source": [
    "# Below are a few examples of evaluating arithmetic expressions in Python\n"
   ]
  },
  {
   "cell_type": "markdown",
   "id": "2540d5b2-2c4b-41b4-8d85-150281e58719",
   "metadata": {
    "tags": []
   },
   "source": [
    "# This a simple arithmetic expression to mutiply then add integers"
   ]
  },
  {
   "cell_type": "code",
   "execution_count": 5,
   "id": "eb386b75-1d8d-484b-8c79-45a3be9e17b9",
   "metadata": {
    "tags": []
   },
   "outputs": [
    {
     "data": {
      "text/plain": [
       "17"
      ]
     },
     "execution_count": 5,
     "metadata": {},
     "output_type": "execute_result"
    }
   ],
   "source": [
    "(3*4)+5"
   ]
  },
  {
   "cell_type": "markdown",
   "id": "f2b40093-2798-4572-a9c9-69618377bf01",
   "metadata": {
    "tags": []
   },
   "source": [
    "# This will convert 200 minutes to hours by diving by 60\n"
   ]
  },
  {
   "cell_type": "code",
   "execution_count": 4,
   "id": "8d6a659a-debd-4077-bc2c-89b9bc613271",
   "metadata": {
    "tags": []
   },
   "outputs": [
    {
     "name": "stdout",
     "output_type": "stream",
     "text": [
      "3.3333333333333335\n"
     ]
    }
   ],
   "source": [
    "minutes = 200\n",
    "ds = minutes/60\n",
    "print(ds)"
   ]
  },
  {
   "cell_type": "markdown",
   "id": "02d90a87-4fa4-4156-acc3-b501b170ddab",
   "metadata": {},
   "source": [
    "## AUTHOR\n",
    "SIYA BANSIWAL"
   ]
  }
 ],
 "metadata": {
  "kernelspec": {
   "display_name": "Python",
   "language": "python",
   "name": "conda-env-python-py"
  },
  "language_info": {
   "codemirror_mode": {
    "name": "ipython",
    "version": 3
   },
   "file_extension": ".py",
   "mimetype": "text/x-python",
   "name": "python",
   "nbconvert_exporter": "python",
   "pygments_lexer": "ipython3",
   "version": "3.7.12"
  }
 },
 "nbformat": 4,
 "nbformat_minor": 5
}
